{
 "cells": [
  {
   "cell_type": "markdown",
   "metadata": {},
   "source": [
    "# NOMA with 2 ppl"
   ]
  },
  {
   "cell_type": "markdown",
   "metadata": {},
   "source": [
    "### channel modeled with raleigh fading"
   ]
  },
  {
   "cell_type": "markdown",
   "metadata": {},
   "source": [
    "$h_i,u = \\sqrt{\\rho_o/ (PL(d_i,u))} v_iu $"
   ]
  },
  {
   "cell_type": "markdown",
   "metadata": {},
   "source": [
    "#### Import libs"
   ]
  },
  {
   "cell_type": "code",
   "execution_count": 3,
   "metadata": {},
   "outputs": [],
   "source": [
    "import numpy as np\n",
    "from numba import jit\n",
    "from matplotlib import pyplot as plt\n",
    "from Functions import *\n",
    "from scipy.constants import Boltzmann\n",
    "plt.rcParams[\"font.family\"] = \"STIXGeneral\"\n",
    "\n",
    "plt.rcParams[\"figure.figsize\"] = (6, 4)"
   ]
  },
  {
   "cell_type": "markdown",
   "metadata": {},
   "source": [
    "Helper functions"
   ]
  },
  {
   "cell_type": "code",
   "execution_count": 6,
   "metadata": {},
   "outputs": [],
   "source": [
    "def db2pow(db):\n",
    "    return np.array(10 ** (db/10))\n",
    "\n",
    "def pow2db(pow):\n",
    "    return np.array(10 * np.log10(pow))\n",
    "\n",
    "def dbm2pow(dbm):\n",
    "    return db2pow(dbm-30)\n",
    "\n",
    "def pow2dbm(pow):\n",
    "    return pow2db(pow * 1000)\n",
    "\n",
    "\n",
    "def noise_power(temp, bw):\n",
    "    thermal_noise = Boltzmann * temperature\n",
    "    kT = pow2dbm(thermal_noise)\n",
    "    BW = pow2db(bandwidth)\n",
    "    NF = 0\n",
    "    return np.asarray(kT + NF + BW)"
   ]
  },
  {
   "cell_type": "markdown",
   "metadata": {},
   "source": [
    "##### Main setup, base station, tx, rx etc"
   ]
  },
  {
   "cell_type": "markdown",
   "metadata": {},
   "source": [
    "#### MODELLING THE NOISE \n",
    "$N_0$"
   ]
  },
  {
   "cell_type": "code",
   "execution_count": 7,
   "metadata": {},
   "outputs": [],
   "source": [
    "Pt = np.linspace(-10, 30, 80)  # dBm\n",
    "Pt_lin =  dbm2pow(Pt)\n",
    "bandwidth = 1e6  # Bandwidth in Hz\n",
    "frequency = 2.4e9  # Carrier frequency\n",
    "temperature = 300  # Kelvin\n",
    "mc = 100000  # Number of channel realizations\n",
    "\n",
    "N0 = noise_power(temperature, bandwidth)  # dBm\n",
    "N0_lin = dbm2pow(N0)  # Watt\n",
    "\n",
    "n_antennas = 1\n",
    "\n",
    "fading_args = {\"type\": \"rayleigh\", \"sigma\": 1 / 2}\n",
    "pathloss_args = {\n",
    "    \"type\": \"reference\",\n",
    "    \"alpha\": 3.5,\n",
    "    \"p0\": 20,\n",
    "    \"frequency\": frequency,\n",
    "}  # p0 is the reference power in dBm"
   ]
  },
  {
   "cell_type": "code",
   "execution_count": 8,
   "metadata": {},
   "outputs": [],
   "source": [
    "BASE_STATION_POSITION = (0, 0, 35)\n",
    "BASE_STATION_ANTENNAS = 1\n",
    "BASE_STATION_POWER = Pt_lin\n",
    "\n",
    "Near_User_pos = [200, 200, 1]\n",
    "Near_User_antennas = 1\n",
    "\n",
    "Far_User_pos = [400, 400, 1]\n",
    "Far_User_antennas = 1"
   ]
  },
  {
   "cell_type": "markdown",
   "metadata": {},
   "source": [
    "#### initialize channel and links\n",
    "channel between base station and near user\n",
    "and channel between base station and far user\n",
    "\n",
    "$     h_{t,r} = g_{t,r} \\sqrt{PL(d_{t,r})} $"
   ]
  },
  {
   "cell_type": "code",
   "execution_count": null,
   "metadata": {},
   "outputs": [],
   "source": [
    "shape_bu = (n_antennas, n_antennas, mc)\n"
   ]
  }
 ],
 "metadata": {
  "kernelspec": {
   "display_name": "Python 3 (ipykernel)",
   "language": "python",
   "name": "python3"
  },
  "language_info": {
   "codemirror_mode": {
    "name": "ipython",
    "version": 3
   },
   "file_extension": ".py",
   "mimetype": "text/x-python",
   "name": "python",
   "nbconvert_exporter": "python",
   "pygments_lexer": "ipython3",
   "version": "3.12.1"
  }
 },
 "nbformat": 4,
 "nbformat_minor": 4
}
